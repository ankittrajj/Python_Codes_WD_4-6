{
 "cells": [
  {
   "cell_type": "code",
   "execution_count": 6,
   "id": "a460ce89",
   "metadata": {},
   "outputs": [
    {
     "name": "stdout",
     "output_type": "stream",
     "text": [
      "abc\n",
      "22\n"
     ]
    }
   ],
   "source": [
    "# oops----> object oriented programming structure.\n",
    "# 4 pillars of oops\n",
    "# 1.Inheritance\n",
    "#2. Polymorphism\n",
    "#3. abstraction\n",
    "#4. Encapsulation\n",
    "\n",
    "\n",
    "#class & object\n",
    "#object----> real world entity is known to be object.\n",
    "#class---> blueprint of object.\n",
    "\n",
    "\n",
    "#syntax\n",
    "# class class_name:\n",
    "#     function & property\n",
    "\n",
    "#code\n",
    "class student:\n",
    "    def detail(self,name,age):\n",
    "        print(name)\n",
    "        print(age)\n",
    "        \n",
    "#object\n",
    "s = student()\n",
    "s.detail('abc',22)"
   ]
  },
  {
   "cell_type": "code",
   "execution_count": 14,
   "id": "fdf8eef4",
   "metadata": {},
   "outputs": [
    {
     "data": {
      "text/plain": [
       "'a'"
      ]
     },
     "execution_count": 14,
     "metadata": {},
     "output_type": "execute_result"
    }
   ],
   "source": [
    "class student:\n",
    "    def info(self,name,marks,age):\n",
    "        return(name)\n",
    "        return(marks)\n",
    "        return(age)\n",
    "        \n",
    "x = student()\n",
    "x.info('a',22,34)"
   ]
  },
  {
   "cell_type": "code",
   "execution_count": 13,
   "id": "7c3251b5",
   "metadata": {},
   "outputs": [
    {
     "name": "stdout",
     "output_type": "stream",
     "text": [
      "1000\n",
      "bule\n",
      "camere\n",
      "<__main__.car object at 0x0000018327EEF190>\n"
     ]
    }
   ],
   "source": [
    "#wap and make a class of car and define its 3 \n",
    "# properties\n",
    "# i.e. price,color,name and make a object of the class\n",
    "# and try to get the properties of this \n",
    "# particular class as an output.\n",
    "\n",
    "\n",
    "class car:\n",
    "    def prop (self,price,color,name):\n",
    "        print(price)\n",
    "        print(color)\n",
    "        print(name)\n",
    "x= car()\n",
    "x.prop(1000,'bule','camere')\n",
    "print(x)"
   ]
  },
  {
   "cell_type": "code",
   "execution_count": 12,
   "id": "e7350cc1",
   "metadata": {},
   "outputs": [
    {
     "name": "stdout",
     "output_type": "stream",
     "text": [
      "<__main__.x object at 0x0000018327EEFD90>\n"
     ]
    }
   ],
   "source": [
    "# what if my class has no properties.\n",
    "class x:\n",
    "    pass\n",
    "\n",
    "a = x()\n",
    "print(a)"
   ]
  },
  {
   "cell_type": "code",
   "execution_count": 20,
   "id": "c6268263",
   "metadata": {},
   "outputs": [
    {
     "name": "stdout",
     "output_type": "stream",
     "text": [
      "a\n",
      "22\n"
     ]
    },
    {
     "data": {
      "text/plain": [
       "34"
      ]
     },
     "execution_count": 20,
     "metadata": {},
     "output_type": "execute_result"
    }
   ],
   "source": [
    "# 0x0000018327EEFDC0\n",
    "# 0x0000018327EEFD90\n",
    "\n",
    "class student:\n",
    "    def info(self,name,marks,age):\n",
    "        print(name)\n",
    "        print(marks)\n",
    "        return(age)\n",
    "        \n",
    "x = student()\n",
    "x.info('a',22,34)"
   ]
  },
  {
   "cell_type": "code",
   "execution_count": 21,
   "id": "9ca8f206",
   "metadata": {},
   "outputs": [
    {
     "data": {
      "text/plain": [
       "('a', 20000, 32)"
      ]
     },
     "execution_count": 21,
     "metadata": {},
     "output_type": "execute_result"
    }
   ],
   "source": [
    "#constructor\n",
    "class emp:\n",
    "    def __init__(self,name,salary,age):\n",
    "        self.name=name\n",
    "        self.salary=salary\n",
    "        self.age=age\n",
    "        \n",
    "e = emp('a',20000,32)\n",
    "e.name,e.salary,e.age"
   ]
  },
  {
   "cell_type": "code",
   "execution_count": 25,
   "id": "64a9f18f",
   "metadata": {},
   "outputs": [
    {
     "name": "stdout",
     "output_type": "stream",
     "text": [
      "black\n"
     ]
    }
   ],
   "source": [
    "#wap and make a class of animal and define its \n",
    "# 2properties using constructor and now make a object\n",
    "# and try to get the output of the particular\n",
    "# class.\n",
    "\n",
    "class animal:\n",
    "    def __init__(self,color,name):\n",
    "        self.color = color\n",
    "        self.name = name\n",
    "        \n",
    "a = animal('black','abc')\n",
    "print(a.color)"
   ]
  },
  {
   "cell_type": "code",
   "execution_count": 24,
   "id": "3ac7ae2b",
   "metadata": {},
   "outputs": [
    {
     "name": "stdout",
     "output_type": "stream",
     "text": [
      "abc\n"
     ]
    }
   ],
   "source": [
    "print(a.name)"
   ]
  },
  {
   "cell_type": "code",
   "execution_count": 42,
   "id": "78e155cf",
   "metadata": {},
   "outputs": [
    {
     "name": "stdout",
     "output_type": "stream",
     "text": [
      "black\n"
     ]
    }
   ],
   "source": [
    "class animal:\n",
    "    def __init__(self,color,name):\n",
    "        self.color = color\n",
    "        self.name = name\n",
    "        \n",
    "a = animal('black','abc')\n",
    "print(a.color)"
   ]
  },
  {
   "cell_type": "code",
   "execution_count": 32,
   "id": "fb223989",
   "metadata": {},
   "outputs": [
    {
     "data": {
      "text/plain": [
       "(1, 2)"
      ]
     },
     "execution_count": 32,
     "metadata": {},
     "output_type": "execute_result"
    }
   ],
   "source": [
    "class animal:\n",
    "    def __init__(self,name,color):\n",
    "        self.name=name\n",
    "        self.color=color\n",
    "e = animal(1,2)\n",
    "e.name,e.color"
   ]
  },
  {
   "cell_type": "code",
   "execution_count": null,
   "id": "642027af",
   "metadata": {},
   "outputs": [],
   "source": []
  },
  {
   "cell_type": "code",
   "execution_count": null,
   "id": "a032e6ba",
   "metadata": {},
   "outputs": [],
   "source": []
  }
 ],
 "metadata": {
  "kernelspec": {
   "display_name": "Python 3 (ipykernel)",
   "language": "python",
   "name": "python3"
  },
  "language_info": {
   "codemirror_mode": {
    "name": "ipython",
    "version": 3
   },
   "file_extension": ".py",
   "mimetype": "text/x-python",
   "name": "python",
   "nbconvert_exporter": "python",
   "pygments_lexer": "ipython3",
   "version": "3.9.7"
  }
 },
 "nbformat": 4,
 "nbformat_minor": 5
}
