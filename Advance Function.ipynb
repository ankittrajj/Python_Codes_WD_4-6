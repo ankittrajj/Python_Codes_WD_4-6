{
 "cells": [
  {
   "cell_type": "code",
   "execution_count": 1,
   "id": "32d8e344",
   "metadata": {},
   "outputs": [
    {
     "name": "stdout",
     "output_type": "stream",
     "text": [
      "Hello python\n"
     ]
    }
   ],
   "source": [
    "def fun():\n",
    "    print(\"Hello python\")\n",
    "fun()"
   ]
  },
  {
   "cell_type": "code",
   "execution_count": 5,
   "id": "26dbba48",
   "metadata": {},
   "outputs": [
    {
     "data": {
      "text/plain": [
       "-1"
      ]
     },
     "execution_count": 5,
     "metadata": {},
     "output_type": "execute_result"
    }
   ],
   "source": [
    "# lambda function, map funtion & filter function\n",
    "# lambda function----> u can write n no. argumnet but only one expression\n",
    "#syantax \n",
    "# lambda variable: expression\n",
    "#lambda function is also called anonymous function and one liner function\n",
    "#wap to add two no.\n",
    "x = lambda a,b,c,d,e,f:a+b+c-d*e+f\n",
    "x(2,3,8,3,5,1)\n",
    "\n",
    "\n"
   ]
  },
  {
   "cell_type": "code",
   "execution_count": 6,
   "id": "2e321fc9",
   "metadata": {},
   "outputs": [],
   "source": [
    "#wap and find square of a number using lambda function.\n",
    "#wap to find the cube of a number using lambda function.\n",
    "\n",
    "c = lambda a:a*a"
   ]
  },
  {
   "cell_type": "code",
   "execution_count": 7,
   "id": "fe76f1e2",
   "metadata": {},
   "outputs": [
    {
     "data": {
      "text/plain": [
       "25"
      ]
     },
     "execution_count": 7,
     "metadata": {},
     "output_type": "execute_result"
    }
   ],
   "source": [
    "c(5)"
   ]
  },
  {
   "cell_type": "code",
   "execution_count": 10,
   "id": "529675a7",
   "metadata": {},
   "outputs": [
    {
     "data": {
      "text/plain": [
       "125"
      ]
     },
     "execution_count": 10,
     "metadata": {},
     "output_type": "execute_result"
    }
   ],
   "source": [
    "c = lambda a:a*a*a\n",
    "c(5)"
   ]
  },
  {
   "cell_type": "code",
   "execution_count": 13,
   "id": "a4616ca2",
   "metadata": {},
   "outputs": [
    {
     "data": {
      "text/plain": [
       "4"
      ]
     },
     "execution_count": 13,
     "metadata": {},
     "output_type": "execute_result"
    }
   ],
   "source": [
    "a=lambda a:a*a\n",
    "a(2)"
   ]
  },
  {
   "cell_type": "code",
   "execution_count": 20,
   "id": "693cf3b8",
   "metadata": {},
   "outputs": [
    {
     "name": "stdout",
     "output_type": "stream",
     "text": [
      "B is max\n"
     ]
    }
   ],
   "source": [
    "#wap a program to find the average of 5 numbers using lamda \n",
    "# function.\n",
    "# Wap to find the max and min of 3 numbers and find their average\n",
    "# with the help of lamda function.\n",
    "\n",
    "def maxmin ():\n",
    "    a= 78\n",
    "    b= 89\n",
    "    c= 21\n",
    "    if a>b>c or a<b<c:\n",
    "        print (\"A is max\")\n",
    "    elif b>a>c:\n",
    "        print (\"B is max\")\n",
    "    elif c>a>b:\n",
    "        print (\"C is max\")\n",
    "    elif a<b<c:\n",
    "        print (\"A is min\")\n",
    "    elif b<a<c:\n",
    "        print (\"B is min\")\n",
    "    elif c<a<b:\n",
    "        print (\"C is min\")\n",
    "    \n",
    "#     return maxmin\n",
    "maxmin()\n",
    "# d=lambda a,b,c:(a+b+c)/3\n",
    "# print(d) \n"
   ]
  },
  {
   "cell_type": "code",
   "execution_count": 24,
   "id": "31c8b9ee",
   "metadata": {},
   "outputs": [
    {
     "ename": "NameError",
     "evalue": "name 'b' is not defined",
     "output_type": "error",
     "traceback": [
      "\u001b[1;31m---------------------------------------------------------------------------\u001b[0m",
      "\u001b[1;31mNameError\u001b[0m                                 Traceback (most recent call last)",
      "\u001b[1;32m~\\AppData\\Local\\Temp/ipykernel_2332/218319726.py\u001b[0m in \u001b[0;36m<module>\u001b[1;34m\u001b[0m\n\u001b[0;32m      4\u001b[0m     \u001b[0mc\u001b[0m\u001b[1;33m=\u001b[0m\u001b[1;36m23\u001b[0m\u001b[1;33m\u001b[0m\u001b[1;33m\u001b[0m\u001b[0m\n\u001b[0;32m      5\u001b[0m \u001b[1;33m\u001b[0m\u001b[0m\n\u001b[1;32m----> 6\u001b[1;33m \u001b[1;32mif\u001b[0m \u001b[1;33m(\u001b[0m\u001b[0ma\u001b[0m\u001b[1;33m>\u001b[0m\u001b[0mb\u001b[0m\u001b[1;33m)\u001b[0m \u001b[1;32mand\u001b[0m \u001b[1;33m(\u001b[0m\u001b[0mb\u001b[0m\u001b[1;33m>\u001b[0m\u001b[0mc\u001b[0m\u001b[1;33m)\u001b[0m \u001b[1;32mand\u001b[0m \u001b[1;33m(\u001b[0m\u001b[0ma\u001b[0m\u001b[1;33m>\u001b[0m\u001b[0mc\u001b[0m\u001b[1;33m)\u001b[0m\u001b[1;33m:\u001b[0m\u001b[1;33m\u001b[0m\u001b[1;33m\u001b[0m\u001b[0m\n\u001b[0m\u001b[0;32m      7\u001b[0m     \u001b[0mprint\u001b[0m\u001b[1;33m(\u001b[0m\u001b[1;34m\"a is max\"\u001b[0m\u001b[1;33m)\u001b[0m\u001b[1;33m\u001b[0m\u001b[1;33m\u001b[0m\u001b[0m\n\u001b[0;32m      8\u001b[0m     \u001b[0mprint\u001b[0m\u001b[1;33m(\u001b[0m\u001b[1;34m\"c is min\"\u001b[0m\u001b[1;33m)\u001b[0m\u001b[1;33m\u001b[0m\u001b[1;33m\u001b[0m\u001b[0m\n",
      "\u001b[1;31mNameError\u001b[0m: name 'b' is not defined"
     ]
    }
   ],
   "source": [
    "def maxmin():\n",
    "    a=213\n",
    "    b=34\n",
    "    c=23\n",
    "\n",
    "if (a>b) and (b>c) and (a>c):\n",
    "    print(\"a is max\")\n",
    "    print(\"c is min\")\n",
    "elif (b>c) and (c>a) and (b>a):\n",
    "    print(\"b is max\")\n",
    "    print(\"a is min\")\n",
    "elif (b>c) and (a>c) and (b>a):\n",
    "    print(\"b is max\")\n",
    "    print(\"c is min\")\n",
    "elif (c>b) and (b>a) and (c>a):\n",
    "    print(\"c is max\")\n",
    "    print(\"a is min\")\n",
    "else:\n",
    "    print(\"c is max\")\n",
    "    print(\"b is min\")\n",
    "    \n",
    "maxmin()"
   ]
  },
  {
   "cell_type": "code",
   "execution_count": 29,
   "id": "1ea1483b",
   "metadata": {},
   "outputs": [
    {
     "name": "stdout",
     "output_type": "stream",
     "text": [
      "C is max\n",
      "A is min\n",
      "Avg of Max. and min is :-  34.0\n"
     ]
    }
   ],
   "source": [
    "a=23\n",
    "b=34\n",
    "c=45\n",
    "if a>b and a>c:\n",
    "    print(\"A is max\")\n",
    "elif b>a and b>c:\n",
    "    print(\"B is max\")\n",
    "else:\n",
    "    print(\"C is max\")\n",
    "if a<b and a<c:\n",
    "    print(\"A is min\")\n",
    "elif b<a and b<c:\n",
    "    print(\"B is min\")\n",
    "else:\n",
    "    print(\"C is min\")\n",
    "    \n",
    "x = lambda a,c:(a+c)/2\n",
    "print(\"Avg of Max. and min is :- \",x(a,c))"
   ]
  },
  {
   "cell_type": "code",
   "execution_count": null,
   "id": "d8584c90",
   "metadata": {},
   "outputs": [],
   "source": []
  }
 ],
 "metadata": {
  "kernelspec": {
   "display_name": "Python 3 (ipykernel)",
   "language": "python",
   "name": "python3"
  },
  "language_info": {
   "codemirror_mode": {
    "name": "ipython",
    "version": 3
   },
   "file_extension": ".py",
   "mimetype": "text/x-python",
   "name": "python",
   "nbconvert_exporter": "python",
   "pygments_lexer": "ipython3",
   "version": "3.9.7"
  }
 },
 "nbformat": 4,
 "nbformat_minor": 5
}
