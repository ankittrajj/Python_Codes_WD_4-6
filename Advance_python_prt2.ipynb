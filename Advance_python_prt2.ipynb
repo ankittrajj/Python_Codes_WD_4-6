{
 "cells": [
  {
   "cell_type": "code",
   "execution_count": 4,
   "id": "74e0744d",
   "metadata": {},
   "outputs": [
    {
     "name": "stdout",
     "output_type": "stream",
     "text": [
      "[45, 89, 56, 67, 76, 34]\n"
     ]
    }
   ],
   "source": [
    "#filter function\n",
    "x = [23,45,89,56,67,76,34]\n",
    "def a(x):\n",
    "    if x>30:\n",
    "        return True\n",
    "    else:\n",
    "        return False\n",
    "fil = list(filter(a,x))\n",
    "print(fil)"
   ]
  },
  {
   "cell_type": "code",
   "execution_count": 5,
   "id": "3c8a6d75",
   "metadata": {},
   "outputs": [
    {
     "name": "stdout",
     "output_type": "stream",
     "text": [
      "[34, 45, 23, 34, 12, 34, 56, 22, 33, 45]\n"
     ]
    }
   ],
   "source": [
    "#wap try to print out the data which is less than 60.\n",
    "a = [34,45,67,89,23,34,12,34,56,78,90,22,33,45]\n",
    "x = list(filter(lambda a:a<60,a))\n",
    "print(x)\n"
   ]
  },
  {
   "cell_type": "code",
   "execution_count": 13,
   "id": "fa5da490",
   "metadata": {},
   "outputs": [
    {
     "name": "stdout",
     "output_type": "stream",
     "text": [
      "Even\n",
      "Even\n",
      "ODD\n",
      "Even\n",
      "Even\n",
      "Even\n"
     ]
    },
    {
     "data": {
      "text/plain": [
       "[]"
      ]
     },
     "execution_count": 13,
     "metadata": {},
     "output_type": "execute_result"
    }
   ],
   "source": [
    "x = [2,6,9,12,10,8]\n",
    "#wap to find odd and even number .(use normal function as well as lamda functio)\n",
    "def even(x):\n",
    "    if x%2==0:\n",
    "        print(\"Even\")\n",
    "    else:\n",
    "        print(\"ODD\") \n",
    "        \n",
    "a = list(filter(even,x))\n",
    "a"
   ]
  },
  {
   "cell_type": "code",
   "execution_count": 14,
   "id": "62fae033",
   "metadata": {},
   "outputs": [
    {
     "name": "stdout",
     "output_type": "stream",
     "text": [
      "[2, 6, 12, 10, 8]\n"
     ]
    }
   ],
   "source": [
    "x = [2,6,9,12,10,8]\n",
    "even = list(filter(lambda x : x%2==0,x))\n",
    "odd = list(filter(lambda x : x%2!=0,x))\n",
    "print(even)"
   ]
  },
  {
   "cell_type": "code",
   "execution_count": 15,
   "id": "65831e11",
   "metadata": {},
   "outputs": [
    {
     "name": "stdout",
     "output_type": "stream",
     "text": [
      "[9]\n"
     ]
    }
   ],
   "source": [
    "print(odd)"
   ]
  },
  {
   "cell_type": "code",
   "execution_count": 22,
   "id": "e841074c",
   "metadata": {},
   "outputs": [
    {
     "name": "stdout",
     "output_type": "stream",
     "text": [
      "Even num are:- [2, 6, 12, 10, 8]\n",
      "Odd number are:- [9]\n"
     ]
    }
   ],
   "source": [
    "x=[2,6,9,12,10,8]\n",
    "s_even = list(filter(lambda x:x%2==0,x))\n",
    "s_odd = list(filter(lambda x:x%2!=0,x))\n",
    "print(\"Even num are:-\",s_even)\n",
    "print(\"Odd number are:-\",s_odd)"
   ]
  },
  {
   "cell_type": "code",
   "execution_count": 24,
   "id": "c10dde2f",
   "metadata": {},
   "outputs": [
    {
     "name": "stdout",
     "output_type": "stream",
     "text": [
      "False\n"
     ]
    }
   ],
   "source": [
    "# != -----> not equal to\n",
    "a=9\n",
    "b=9\n",
    "c = a!=b\n",
    "print(c)"
   ]
  },
  {
   "cell_type": "code",
   "execution_count": 26,
   "id": "1222891c",
   "metadata": {},
   "outputs": [
    {
     "name": "stdout",
     "output_type": "stream",
     "text": [
      "even num are:- [2, 6, 12, 10, 8]\n",
      "odd num are:- [9]\n"
     ]
    }
   ],
   "source": [
    "#wap to claculate the age of person from a data that is less than 20 year of age\n",
    "# and  print the output as child\n",
    "s = [23,45,67,89,22,12,1,2,19,18,15,5,8]\n",
    "\n",
    "x= [2,6,9,12,10,8]\n",
    "s_even = list(filter(lambda x : x%2==0,x))\n",
    "s_odd =list(filter(lambda x : x%2!=0,x))\n",
    "print(\"even num are:-\",s_even)\n",
    "print(\"odd num are:-\",s_odd)"
   ]
  },
  {
   "cell_type": "code",
   "execution_count": 28,
   "id": "9d6648d0",
   "metadata": {},
   "outputs": [
    {
     "name": "stdout",
     "output_type": "stream",
     "text": [
      "From the data we get filter out the child_data:- [12, 1, 2, 19, 18, 15, 5, 8]\n"
     ]
    }
   ],
   "source": [
    "s = [23,45,67,89,22,12,1,2,19,18,15,5,8]\n",
    "x = list(filter(lambda s : s<20,s))\n",
    "print(\"From the data we get filter out the child_data:-\",x)"
   ]
  },
  {
   "cell_type": "code",
   "execution_count": 34,
   "id": "08322235",
   "metadata": {},
   "outputs": [
    {
     "name": "stdout",
     "output_type": "stream",
     "text": [
      "Enter num\n",
      "2\n",
      "Enter the number again\n",
      "56\n",
      "unsupported operand type(s) for +: 'int' and 'str'\n",
      "this is very imp. line for execution\n"
     ]
    }
   ],
   "source": [
    "#exception handling\n",
    "print(\"Enter num\")\n",
    "num = int(input())\n",
    "print(\"Enter the number again\")\n",
    "num2 = input()\n",
    "try:\n",
    "    print(num+num2)\n",
    "    \n",
    "except Exception as e:\n",
    "    print(e)\n",
    "\n",
    "\n",
    "print(\"this is very imp. line for execution\")"
   ]
  },
  {
   "cell_type": "code",
   "execution_count": null,
   "id": "f0aceeb5",
   "metadata": {},
   "outputs": [],
   "source": []
  }
 ],
 "metadata": {
  "kernelspec": {
   "display_name": "Python 3 (ipykernel)",
   "language": "python",
   "name": "python3"
  },
  "language_info": {
   "codemirror_mode": {
    "name": "ipython",
    "version": 3
   },
   "file_extension": ".py",
   "mimetype": "text/x-python",
   "name": "python",
   "nbconvert_exporter": "python",
   "pygments_lexer": "ipython3",
   "version": "3.9.7"
  }
 },
 "nbformat": 4,
 "nbformat_minor": 5
}
