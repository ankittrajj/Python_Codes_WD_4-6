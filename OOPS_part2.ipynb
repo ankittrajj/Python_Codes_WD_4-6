{
 "cells": [
  {
   "cell_type": "code",
   "execution_count": 12,
   "id": "03b6f84a",
   "metadata": {},
   "outputs": [
    {
     "name": "stdout",
     "output_type": "stream",
     "text": [
      "Parent class property1------> abc\n",
      "Parent class property2-------> blue\n",
      "Child class property1------> 20\n"
     ]
    }
   ],
   "source": [
    "#inheritance---->\n",
    "\n",
    "class car:\n",
    "    def details(self,name,color):\n",
    "        print(\"Parent class property1------>\",name)\n",
    "        print(\"Parent class property2------->\",color)\n",
    "        \n",
    "class car2(car):\n",
    "    def info(self,price):\n",
    "        print(\"Child class property1------>\",price)\n",
    "        \n",
    "        \n",
    "c = car2()\n",
    "c.details('abc','blue')\n",
    "c.info(20)"
   ]
  },
  {
   "cell_type": "code",
   "execution_count": 8,
   "id": "d1952207",
   "metadata": {},
   "outputs": [
    {
     "name": "stdout",
     "output_type": "stream",
     "text": [
      "abs\n",
      "503333999\n",
      "UAE\n"
     ]
    }
   ],
   "source": [
    "#wap and make a class of student and give some properties like name\n",
    "# and roll number, now make a class of student called \"Sohan\" and\n",
    "# add the properties of student to sohan and get its output.\n",
    "\n",
    "class student:\n",
    "    def info (self,name,roll_number):\n",
    "        print(name)\n",
    "        print(roll_number)\n",
    "class sohan (student):\n",
    "    def soh (self,addr):\n",
    "        print(addr)\n",
    "\n",
    "c= sohan()\n",
    "c.info(\"abs\",503333999)\n",
    "c.soh(\"UAE\")"
   ]
  },
  {
   "cell_type": "code",
   "execution_count": 9,
   "id": "018c2c7b",
   "metadata": {},
   "outputs": [
    {
     "name": "stdout",
     "output_type": "stream",
     "text": [
      "abc 23\n",
      "34\n"
     ]
    }
   ],
   "source": [
    "class student:\n",
    "    def info(self,name,marks):\n",
    "        print(name,marks)\n",
    "        \n",
    "class sohan(student):\n",
    "    def info2(self,age):\n",
    "        print(age)\n",
    "        \n",
    "s = sohan()\n",
    "s.info('abc',23)\n",
    "s.info2(34)"
   ]
  },
  {
   "cell_type": "code",
   "execution_count": 13,
   "id": "d5744bb1",
   "metadata": {},
   "outputs": [
    {
     "name": "stdout",
     "output_type": "stream",
     "text": [
      "xyz fb\n"
     ]
    }
   ],
   "source": [
    "#wap and make a class of boss and employee add some methods to it\n",
    "# and try to get the output with the help of inheritance.\n",
    "\n",
    "class boss:\n",
    "    def info(self,name,company):\n",
    "        print(name,company)\n",
    "        \n",
    "        \n",
    "class emp(boss):\n",
    "    def detail(self,salary,emp_id):\n",
    "        print(salary,emp_id)\n",
    "        \n",
    "e = emp()\n",
    "e.info('xyz','fb')\n",
    "    "
   ]
  },
  {
   "cell_type": "code",
   "execution_count": 15,
   "id": "fd05109f",
   "metadata": {},
   "outputs": [
    {
     "name": "stdout",
     "output_type": "stream",
     "text": [
      "23 asd123\n"
     ]
    }
   ],
   "source": [
    "e.detail(23,'asd123')"
   ]
  },
  {
   "cell_type": "code",
   "execution_count": 17,
   "id": "5d78548d",
   "metadata": {},
   "outputs": [
    {
     "data": {
      "text/plain": [
       "'is'"
      ]
     },
     "execution_count": 17,
     "metadata": {},
     "output_type": "execute_result"
    }
   ],
   "source": [
    "#wap and make a class of boss and employee add some methods to it\n",
    "# and try to get the output with the help of inheritance.\n",
    "\n",
    "class boss:\n",
    "    def __init__ (self,name,age):\n",
    "        self.name=name\n",
    "        self.age=age\n",
    "\n",
    "class employ(boss):\n",
    "    def __init__(self,post):\n",
    "        self.post=post\n",
    "\n",
    "\n",
    "\n",
    "\n",
    "f =boss(\"mohit\",34,)\n",
    "f.name,f.age\n",
    "f=employ(\"is\")\n",
    "f.post"
   ]
  },
  {
   "cell_type": "code",
   "execution_count": 24,
   "id": "ee54c2a2",
   "metadata": {},
   "outputs": [
    {
     "data": {
      "text/plain": [
       "('abc', 'red', 20)"
      ]
     },
     "execution_count": 24,
     "metadata": {},
     "output_type": "execute_result"
    }
   ],
   "source": [
    "class car:\n",
    "    def __init__(self,name,color):\n",
    "        self.name = name\n",
    "        self.color = color\n",
    "        \n",
    "        \n",
    "class truck(car):\n",
    "    def __init__(self,name,color,price):\n",
    "        super().__init__(name,color)\n",
    "        self.price=price\n",
    "        \n",
    "t = truck('abc','red',20)\n",
    "t.name,t.color,t.price\n"
   ]
  },
  {
   "cell_type": "code",
   "execution_count": null,
   "id": "3223fb95",
   "metadata": {},
   "outputs": [],
   "source": [
    "#wap and make a class of boss and employee add some methods to it\n",
    "# and try to get the output with the help of inheritance."
   ]
  }
 ],
 "metadata": {
  "kernelspec": {
   "display_name": "Python 3 (ipykernel)",
   "language": "python",
   "name": "python3"
  },
  "language_info": {
   "codemirror_mode": {
    "name": "ipython",
    "version": 3
   },
   "file_extension": ".py",
   "mimetype": "text/x-python",
   "name": "python",
   "nbconvert_exporter": "python",
   "pygments_lexer": "ipython3",
   "version": "3.9.7"
  }
 },
 "nbformat": 4,
 "nbformat_minor": 5
}
