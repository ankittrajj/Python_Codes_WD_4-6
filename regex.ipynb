{
 "cells": [
  {
   "cell_type": "code",
   "execution_count": 1,
   "id": "d8e837e5",
   "metadata": {},
   "outputs": [],
   "source": [
    "#regular expression\n",
    "import re"
   ]
  },
  {
   "cell_type": "code",
   "execution_count": 16,
   "id": "ff3c349c",
   "metadata": {},
   "outputs": [
    {
     "data": {
      "text/plain": [
       "<re.Match object; span=(1, 2), match=' '>"
      ]
     },
     "execution_count": 16,
     "metadata": {},
     "output_type": "execute_result"
    }
   ],
   "source": [
    "#findall\n",
    "#search\n",
    "#split\n",
    "#sub\n",
    "#finditer\n",
    "\n",
    "#search\n",
    "a = 'I am a lion and I know it'\n",
    "c = re.search(' ',a)\n",
    "c"
   ]
  },
  {
   "cell_type": "code",
   "execution_count": 15,
   "id": "5bbba521",
   "metadata": {},
   "outputs": [
    {
     "data": {
      "text/plain": [
       "[' ', ' ', ' ', ' ', ' ', ' ', ' ']"
      ]
     },
     "execution_count": 15,
     "metadata": {},
     "output_type": "execute_result"
    }
   ],
   "source": [
    "find = re.findall(' ',a)\n",
    "find"
   ]
  },
  {
   "cell_type": "code",
   "execution_count": 18,
   "id": "6c462d02",
   "metadata": {},
   "outputs": [
    {
     "data": {
      "text/plain": [
       "'I am a tiger and I know it'"
      ]
     },
     "execution_count": 18,
     "metadata": {},
     "output_type": "execute_result"
    }
   ],
   "source": [
    "#sub\n",
    "s= re.sub('lion','tiger',a)\n",
    "s"
   ]
  },
  {
   "cell_type": "code",
   "execution_count": 19,
   "id": "d75b4c90",
   "metadata": {},
   "outputs": [],
   "source": [
    "#split\n",
    "sp = re.split('lion',a)"
   ]
  },
  {
   "cell_type": "code",
   "execution_count": 20,
   "id": "17f7ee0c",
   "metadata": {},
   "outputs": [
    {
     "data": {
      "text/plain": [
       "['I am a ', ' and I know it']"
      ]
     },
     "execution_count": 20,
     "metadata": {},
     "output_type": "execute_result"
    }
   ],
   "source": [
    "sp"
   ]
  },
  {
   "cell_type": "code",
   "execution_count": 21,
   "id": "49743ede",
   "metadata": {},
   "outputs": [
    {
     "data": {
      "text/plain": [
       "<callable_iterator at 0x2290b2ec3a0>"
      ]
     },
     "execution_count": 21,
     "metadata": {},
     "output_type": "execute_result"
    }
   ],
   "source": [
    "#finditer\n",
    "x = re.finditer('lion',a)\n",
    "x"
   ]
  },
  {
   "cell_type": "code",
   "execution_count": 27,
   "id": "6783a0d9",
   "metadata": {},
   "outputs": [
    {
     "name": "stdout",
     "output_type": "stream",
     "text": [
      "Starting point is---> 5 Ending point is-----> 9\n"
     ]
    }
   ],
   "source": [
    "a = 'I am lion'\n",
    "pattern = 'lion'\n",
    "for match in re.finditer(pattern,a):\n",
    "    a = match.start()\n",
    "    b = match.end()\n",
    "    print(\"Starting point is--->\",a,\"Ending point is----->\",b)"
   ]
  },
  {
   "cell_type": "code",
   "execution_count": null,
   "id": "da5721dc",
   "metadata": {},
   "outputs": [],
   "source": []
  }
 ],
 "metadata": {
  "kernelspec": {
   "display_name": "Python 3 (ipykernel)",
   "language": "python",
   "name": "python3"
  },
  "language_info": {
   "codemirror_mode": {
    "name": "ipython",
    "version": 3
   },
   "file_extension": ".py",
   "mimetype": "text/x-python",
   "name": "python",
   "nbconvert_exporter": "python",
   "pygments_lexer": "ipython3",
   "version": "3.9.7"
  }
 },
 "nbformat": 4,
 "nbformat_minor": 5
}
