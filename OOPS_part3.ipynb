{
 "cells": [
  {
   "cell_type": "code",
   "execution_count": 3,
   "id": "8cd537e3",
   "metadata": {},
   "outputs": [
    {
     "name": "stdout",
     "output_type": "stream",
     "text": [
      "Name is:- abc\n",
      "Marks is:- 45\n"
     ]
    }
   ],
   "source": [
    "#multi-level inheritance\n",
    "class student1:\n",
    "    def info(self,name,marks):\n",
    "        print(\"Name is:-\",name)\n",
    "        print(\"Marks is:-\",marks)\n",
    "        \n",
    "class student2(student1):\n",
    "    def details(self,addr):\n",
    "        print(addr)\n",
    "        \n",
    "class student3(student2):\n",
    "    def info2(self,phone):\n",
    "        print(phone)\n",
    "        \n",
    "        \n",
    "x=student3()\n",
    "x.info('abc',45)"
   ]
  },
  {
   "cell_type": "code",
   "execution_count": null,
   "id": "c1aadc98",
   "metadata": {},
   "outputs": [],
   "source": []
  }
 ],
 "metadata": {
  "kernelspec": {
   "display_name": "Python 3 (ipykernel)",
   "language": "python",
   "name": "python3"
  },
  "language_info": {
   "codemirror_mode": {
    "name": "ipython",
    "version": 3
   },
   "file_extension": ".py",
   "mimetype": "text/x-python",
   "name": "python",
   "nbconvert_exporter": "python",
   "pygments_lexer": "ipython3",
   "version": "3.9.7"
  }
 },
 "nbformat": 4,
 "nbformat_minor": 5
}
