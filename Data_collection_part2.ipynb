{
 "cells": [
  {
   "cell_type": "code",
   "execution_count": 16,
   "id": "39a99914",
   "metadata": {},
   "outputs": [],
   "source": [
    "#dict\n",
    "#set\n",
    "# Dict\\\n",
    "x = {\n",
    "    'name':'xyz',\n",
    "    'age':23,\n",
    "    'marks':54\n",
    "}"
   ]
  },
  {
   "cell_type": "code",
   "execution_count": 5,
   "id": "5b877edf",
   "metadata": {},
   "outputs": [
    {
     "data": {
      "text/plain": [
       "{'name': 'xyz', 'age': 23, 'marks': 54}"
      ]
     },
     "execution_count": 5,
     "metadata": {},
     "output_type": "execute_result"
    }
   ],
   "source": [
    "x"
   ]
  },
  {
   "cell_type": "code",
   "execution_count": 6,
   "id": "70ccc8c8",
   "metadata": {},
   "outputs": [
    {
     "data": {
      "text/plain": [
       "dict"
      ]
     },
     "execution_count": 6,
     "metadata": {},
     "output_type": "execute_result"
    }
   ],
   "source": [
    "type(x)"
   ]
  },
  {
   "cell_type": "code",
   "execution_count": 17,
   "id": "6e86ab7a",
   "metadata": {},
   "outputs": [],
   "source": [
    "# make a dict of employee which having 3 properties \n",
    "# name,dept,& salary.\n",
    "\n",
    "employee = {\n",
    "    'name':'ABC',\n",
    "    'dept':'electronics',\n",
    "    'salary':20\n",
    "}"
   ]
  },
  {
   "cell_type": "code",
   "execution_count": 18,
   "id": "2b1cf960",
   "metadata": {},
   "outputs": [
    {
     "data": {
      "text/plain": [
       "{'name': 'ABC', 'dept': 'electronics', 'salary': 20}"
      ]
     },
     "execution_count": 18,
     "metadata": {},
     "output_type": "execute_result"
    }
   ],
   "source": [
    "employee"
   ]
  },
  {
   "cell_type": "code",
   "execution_count": 19,
   "id": "efca0dce",
   "metadata": {},
   "outputs": [
    {
     "ename": "KeyError",
     "evalue": "0",
     "output_type": "error",
     "traceback": [
      "\u001b[1;31m---------------------------------------------------------------------------\u001b[0m",
      "\u001b[1;31mKeyError\u001b[0m                                  Traceback (most recent call last)",
      "\u001b[1;32m~\\AppData\\Local\\Temp/ipykernel_10052/4180592604.py\u001b[0m in \u001b[0;36m<module>\u001b[1;34m\u001b[0m\n\u001b[0;32m      1\u001b[0m \u001b[1;31m#slicing\u001b[0m\u001b[1;33m\u001b[0m\u001b[1;33m\u001b[0m\u001b[0m\n\u001b[1;32m----> 2\u001b[1;33m \u001b[0memployee\u001b[0m\u001b[1;33m[\u001b[0m\u001b[1;36m0\u001b[0m\u001b[1;33m]\u001b[0m\u001b[1;33m\u001b[0m\u001b[1;33m\u001b[0m\u001b[0m\n\u001b[0m",
      "\u001b[1;31mKeyError\u001b[0m: 0"
     ]
    }
   ],
   "source": [
    "#slicing\n",
    "employee[0]"
   ]
  },
  {
   "cell_type": "code",
   "execution_count": 21,
   "id": "7da60ec6",
   "metadata": {},
   "outputs": [
    {
     "data": {
      "text/plain": [
       "'ABC'"
      ]
     },
     "execution_count": 21,
     "metadata": {},
     "output_type": "execute_result"
    }
   ],
   "source": [
    "employee['name']"
   ]
  },
  {
   "cell_type": "code",
   "execution_count": 22,
   "id": "1c9bbb62",
   "metadata": {},
   "outputs": [
    {
     "data": {
      "text/plain": [
       "{'name': 'ABC', 'dept': 'electronics', 'salary': 20}"
      ]
     },
     "execution_count": 22,
     "metadata": {},
     "output_type": "execute_result"
    }
   ],
   "source": [
    "# mutable or immutable \n",
    "employee"
   ]
  },
  {
   "cell_type": "code",
   "execution_count": 24,
   "id": "8ffddd93",
   "metadata": {},
   "outputs": [],
   "source": [
    "employee['name']='XYZ'"
   ]
  },
  {
   "cell_type": "code",
   "execution_count": 25,
   "id": "4c00df7c",
   "metadata": {},
   "outputs": [
    {
     "data": {
      "text/plain": [
       "{'name': 'XYZ', 'dept': 'electronics', 'salary': 20}"
      ]
     },
     "execution_count": 25,
     "metadata": {},
     "output_type": "execute_result"
    }
   ],
   "source": [
    "employee"
   ]
  },
  {
   "cell_type": "code",
   "execution_count": 26,
   "id": "f1bd6d31",
   "metadata": {},
   "outputs": [],
   "source": [
    "employee['dept']='accounts'"
   ]
  },
  {
   "cell_type": "code",
   "execution_count": 27,
   "id": "5430500f",
   "metadata": {},
   "outputs": [
    {
     "data": {
      "text/plain": [
       "{'name': 'XYZ', 'dept': 'accounts', 'salary': 20}"
      ]
     },
     "execution_count": 27,
     "metadata": {},
     "output_type": "execute_result"
    }
   ],
   "source": [
    "employee"
   ]
  },
  {
   "cell_type": "code",
   "execution_count": 32,
   "id": "f3970986",
   "metadata": {},
   "outputs": [],
   "source": [
    "#1.order/unorder---->unordered/indexed\n",
    "#2. mutable/immutable----->mutable\n",
    "#3. duplicacy or not----->\n",
    "\n",
    "x = {\n",
    "    'name':123,\n",
    "    'sub':'History',\n",
    "    'age':32,\n",
    "    'age':34,\n",
    "    'age':22\n",
    "}\n"
   ]
  },
  {
   "cell_type": "code",
   "execution_count": 33,
   "id": "0821cc70",
   "metadata": {},
   "outputs": [
    {
     "data": {
      "text/plain": [
       "{'name': 123, 'sub': 'History', 'age': 22}"
      ]
     },
     "execution_count": 33,
     "metadata": {},
     "output_type": "execute_result"
    }
   ],
   "source": [
    "x"
   ]
  },
  {
   "cell_type": "code",
   "execution_count": 34,
   "id": "740e18ad",
   "metadata": {},
   "outputs": [],
   "source": [
    "# Create a empty dict\n",
    "# Create a single element dict.\n",
    "x = {\n",
    "    \n",
    "}"
   ]
  },
  {
   "cell_type": "code",
   "execution_count": 35,
   "id": "04a8a2f1",
   "metadata": {},
   "outputs": [
    {
     "data": {
      "text/plain": [
       "{}"
      ]
     },
     "execution_count": 35,
     "metadata": {},
     "output_type": "execute_result"
    }
   ],
   "source": [
    "x"
   ]
  },
  {
   "cell_type": "code",
   "execution_count": 36,
   "id": "af1305f6",
   "metadata": {},
   "outputs": [
    {
     "data": {
      "text/plain": [
       "dict"
      ]
     },
     "execution_count": 36,
     "metadata": {},
     "output_type": "execute_result"
    }
   ],
   "source": [
    "type(x)"
   ]
  },
  {
   "cell_type": "code",
   "execution_count": 41,
   "id": "b7beb2a2",
   "metadata": {},
   "outputs": [],
   "source": [
    "x = {\n",
    "    'abc':'xyz'\n",
    "}"
   ]
  },
  {
   "cell_type": "code",
   "execution_count": 42,
   "id": "e589fe4a",
   "metadata": {},
   "outputs": [
    {
     "data": {
      "text/plain": [
       "{'abc': 'xyz'}"
      ]
     },
     "execution_count": 42,
     "metadata": {},
     "output_type": "execute_result"
    }
   ],
   "source": [
    "x"
   ]
  },
  {
   "cell_type": "code",
   "execution_count": 43,
   "id": "504f666e",
   "metadata": {},
   "outputs": [],
   "source": [
    "# wap and make a dict of 5 students with their name,sub,and marks.\n",
    "a = {\n",
    "    'name':['a','b','c','d','e'],\n",
    "    'sub':'english',\n",
    "    'marks':[2,5,8,5,1]\n",
    "}\n"
   ]
  },
  {
   "cell_type": "code",
   "execution_count": 44,
   "id": "3b1c0121",
   "metadata": {},
   "outputs": [
    {
     "data": {
      "text/plain": [
       "{'name': ['a', 'b', 'c', 'd', 'e'], 'sub': 'english', 'marks': [2, 5, 8, 5, 1]}"
      ]
     },
     "execution_count": 44,
     "metadata": {},
     "output_type": "execute_result"
    }
   ],
   "source": [
    "a"
   ]
  },
  {
   "cell_type": "code",
   "execution_count": 47,
   "id": "87bea10d",
   "metadata": {},
   "outputs": [
    {
     "data": {
      "text/plain": [
       "2"
      ]
     },
     "execution_count": 47,
     "metadata": {},
     "output_type": "execute_result"
    }
   ],
   "source": [
    "#wap to find the marks of student 'a' \n",
    "# hint----> using slicing\n",
    "a['marks'][0]"
   ]
  },
  {
   "cell_type": "code",
   "execution_count": 57,
   "id": "7e934337",
   "metadata": {},
   "outputs": [],
   "source": [
    "# x = {\n",
    "#     'name':'ankit',\n",
    "#     1:22,\n",
    "#     'addr':'New Delhi'\n",
    "# }\n",
    "\n",
    "\n",
    "# x = {\n",
    "#     'name':'ankit',\n",
    "#     '1':22,\n",
    "#     'addr':'New Delhi'\n",
    "# }\n",
    "\n",
    "\n",
    "# x = {\n",
    "#     'name':'ankit',\n",
    "#     0:22,\n",
    "#     'addr':'New Delhi'\n",
    "# }\n",
    "\n",
    "\n",
    "\n",
    "x = {\n",
    "    'name':'ankit',\n",
    "    '0':22,\n",
    "    'addr':'New Delhi'\n",
    "}"
   ]
  },
  {
   "cell_type": "code",
   "execution_count": 58,
   "id": "ec1fd709",
   "metadata": {},
   "outputs": [
    {
     "data": {
      "text/plain": [
       "{'name': 'ankit', '0': 22, 'addr': 'New Delhi'}"
      ]
     },
     "execution_count": 58,
     "metadata": {},
     "output_type": "execute_result"
    }
   ],
   "source": [
    "x"
   ]
  },
  {
   "cell_type": "code",
   "execution_count": null,
   "id": "2b725b04",
   "metadata": {},
   "outputs": [],
   "source": []
  }
 ],
 "metadata": {
  "kernelspec": {
   "display_name": "Python 3 (ipykernel)",
   "language": "python",
   "name": "python3"
  },
  "language_info": {
   "codemirror_mode": {
    "name": "ipython",
    "version": 3
   },
   "file_extension": ".py",
   "mimetype": "text/x-python",
   "name": "python",
   "nbconvert_exporter": "python",
   "pygments_lexer": "ipython3",
   "version": "3.9.7"
  }
 },
 "nbformat": 4,
 "nbformat_minor": 5
}
