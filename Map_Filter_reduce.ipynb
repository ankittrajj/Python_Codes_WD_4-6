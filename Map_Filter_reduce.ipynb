{
 "cells": [
  {
   "cell_type": "code",
   "execution_count": 1,
   "id": "6a1825bd",
   "metadata": {},
   "outputs": [
    {
     "data": {
      "text/plain": [
       "[90, 89, 56, 887]"
      ]
     },
     "execution_count": 1,
     "metadata": {},
     "output_type": "execute_result"
    }
   ],
   "source": [
    "x = [90,89,56,44,33,21,887,34,22,34,21,11,9,34]\n",
    "f = list(filter(lambda a:a>50,x))\n",
    "f"
   ]
  },
  {
   "cell_type": "code",
   "execution_count": 4,
   "id": "806dba09",
   "metadata": {},
   "outputs": [
    {
     "data": {
      "text/plain": [
       "[10, 45, 23, 34, 12, 34, 45]"
      ]
     },
     "execution_count": 4,
     "metadata": {},
     "output_type": "execute_result"
    }
   ],
   "source": [
    "marks = [10,56,90,89,45,23,34,12,34,45]\n",
    "f = list(filter(lambda h:h<50,marks))\n",
    "f"
   ]
  },
  {
   "cell_type": "code",
   "execution_count": 8,
   "id": "eb992f1a",
   "metadata": {},
   "outputs": [
    {
     "data": {
      "text/plain": [
       "[100, 2025, 529, 1156, 144, 1156, 2025]"
      ]
     },
     "execution_count": 8,
     "metadata": {},
     "output_type": "execute_result"
    }
   ],
   "source": [
    "square_value = list(map(lambda a:a**2,f))\n",
    "square_value"
   ]
  },
  {
   "cell_type": "code",
   "execution_count": 6,
   "id": "0095be6b",
   "metadata": {},
   "outputs": [
    {
     "data": {
      "text/plain": [
       "7135"
      ]
     },
     "execution_count": 6,
     "metadata": {},
     "output_type": "execute_result"
    }
   ],
   "source": [
    "from functools import reduce\n",
    "r = reduce(lambda a,b:a+b,square_value)\n",
    "r"
   ]
  },
  {
   "cell_type": "code",
   "execution_count": 16,
   "id": "c61cc253",
   "metadata": {},
   "outputs": [
    {
     "name": "stdout",
     "output_type": "stream",
     "text": [
      "enter the num100\n",
      "enter the num0\n",
      "Exception handled successfully!!.......\n",
      "This is imp code & need to be printed\n"
     ]
    }
   ],
   "source": [
    "#exception handling\n",
    "a=int(input(\"enter the num\"))\n",
    "b=int(input(\"enter the num\"))\n",
    "try:\n",
    "    c=a/b\n",
    "    print(c)\n",
    "    \n",
    "except Exception as e:\n",
    "    print(\"Exception handled successfully!!.......\")\n",
    "\n",
    "\n",
    "\n",
    "print(\"This is imp code & need to be printed\")\n"
   ]
  },
  {
   "cell_type": "code",
   "execution_count": null,
   "id": "abffb973",
   "metadata": {},
   "outputs": [],
   "source": []
  }
 ],
 "metadata": {
  "kernelspec": {
   "display_name": "Python 3 (ipykernel)",
   "language": "python",
   "name": "python3"
  },
  "language_info": {
   "codemirror_mode": {
    "name": "ipython",
    "version": 3
   },
   "file_extension": ".py",
   "mimetype": "text/x-python",
   "name": "python",
   "nbconvert_exporter": "python",
   "pygments_lexer": "ipython3",
   "version": "3.9.7"
  }
 },
 "nbformat": 4,
 "nbformat_minor": 5
}
