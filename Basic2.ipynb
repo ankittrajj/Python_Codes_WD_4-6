{
 "cells": [
  {
   "cell_type": "code",
   "execution_count": 1,
   "id": "1165c787",
   "metadata": {},
   "outputs": [],
   "source": [
    "#condition statement\n",
    "# syntax\n",
    "# if and else\n",
    "\n",
    "#WAP if a child is below 18 then he/she can't vote\n",
    "# and if this child is above 18 then he/she cast \n",
    "# the vote.\n"
   ]
  },
  {
   "cell_type": "code",
   "execution_count": 9,
   "id": "9c63e59d",
   "metadata": {},
   "outputs": [
    {
     "name": "stdout",
     "output_type": "stream",
     "text": [
      "vote\n"
     ]
    }
   ],
   "source": [
    "age =19\n",
    "if age>=18:\n",
    "    print('vote')\n",
    "else:\n",
    "    print(\"No vote\")"
   ]
  },
  {
   "cell_type": "code",
   "execution_count": 18,
   "id": "9dbfb75e",
   "metadata": {},
   "outputs": [
    {
     "name": "stdout",
     "output_type": "stream",
     "text": [
      "child\n"
     ]
    }
   ],
   "source": [
    "# elif\n",
    "#Wap and find the boy is child , teenagr or adult\n",
    "# age from 0-10 --> child\n",
    "# age from 10-20-->teenager\n",
    "# age from 20 above--> adult\n",
    "\n",
    "age = 2\n",
    "if 0<=age<10:\n",
    "    print('child')\n",
    "elif 11<=age<20:\n",
    "    print('teenager')\n",
    "else:\n",
    "    print('adult')"
   ]
  },
  {
   "cell_type": "code",
   "execution_count": 19,
   "id": "8d4b6b0b",
   "metadata": {},
   "outputs": [
    {
     "name": "stdout",
     "output_type": "stream",
     "text": [
      "Enter the msghello\n",
      "hello\n"
     ]
    }
   ],
   "source": [
    "#user input function\n",
    "# how to take user input\n",
    "x = input(\"Enter the msg\")\n",
    "print(x)"
   ]
  },
  {
   "cell_type": "code",
   "execution_count": 22,
   "id": "dbf95318",
   "metadata": {},
   "outputs": [
    {
     "name": "stdout",
     "output_type": "stream",
     "text": [
      "enter the first number2\n",
      "enter the second number3\n",
      "5\n"
     ]
    }
   ],
   "source": [
    "#wap to add two numbers with the help of user input\n",
    "a = int(input(\"enter the first number\"))\n",
    "b = int(input('enter the second number'))\n",
    "s = a+b\n",
    "print(s)"
   ]
  },
  {
   "cell_type": "code",
   "execution_count": 21,
   "id": "c476d087",
   "metadata": {},
   "outputs": [
    {
     "name": "stdout",
     "output_type": "stream",
     "text": [
      "12\n"
     ]
    }
   ],
   "source": [
    "a = '1'\n",
    "b = '2'\n",
    "s = a+b\n",
    "print(s)"
   ]
  },
  {
   "cell_type": "code",
   "execution_count": 23,
   "id": "ed65e4de",
   "metadata": {},
   "outputs": [
    {
     "name": "stdout",
     "output_type": "stream",
     "text": [
      "enter the first number1\n",
      "enter the second number9\n",
      "10\n"
     ]
    }
   ],
   "source": [
    "#wap to add two numbers with the help of user input\n",
    "a = input(\"enter the first number\")\n",
    "b = input('enter the second number')\n",
    "s = int(a)+int(b)\n",
    "print(s)"
   ]
  },
  {
   "cell_type": "code",
   "execution_count": 24,
   "id": "a0a374aa",
   "metadata": {},
   "outputs": [
    {
     "name": "stdout",
     "output_type": "stream",
     "text": [
      "xyz\n"
     ]
    }
   ],
   "source": [
    "#String\n",
    "a = 'xyz'\n",
    "print(a)"
   ]
  },
  {
   "cell_type": "code",
   "execution_count": 25,
   "id": "d9e40e80",
   "metadata": {},
   "outputs": [
    {
     "data": {
      "text/plain": [
       "str"
      ]
     },
     "execution_count": 25,
     "metadata": {},
     "output_type": "execute_result"
    }
   ],
   "source": [
    "type(a)"
   ]
  },
  {
   "cell_type": "code",
   "execution_count": 27,
   "id": "655ce9a1",
   "metadata": {},
   "outputs": [
    {
     "name": "stdout",
     "output_type": "stream",
     "text": [
      "123456789\n"
     ]
    }
   ],
   "source": [
    "#slicing\n",
    "a='123456789'\n",
    "print(a)"
   ]
  },
  {
   "cell_type": "code",
   "execution_count": 28,
   "id": "db955c8f",
   "metadata": {},
   "outputs": [
    {
     "data": {
      "text/plain": [
       "9"
      ]
     },
     "execution_count": 28,
     "metadata": {},
     "output_type": "execute_result"
    }
   ],
   "source": [
    "len(a)"
   ]
  },
  {
   "cell_type": "code",
   "execution_count": 29,
   "id": "df70977d",
   "metadata": {},
   "outputs": [
    {
     "name": "stdout",
     "output_type": "stream",
     "text": [
      "Mohan\n"
     ]
    }
   ],
   "source": [
    "x = 'Mohan'\n",
    "print(x)"
   ]
  },
  {
   "cell_type": "code",
   "execution_count": 30,
   "id": "08d60325",
   "metadata": {},
   "outputs": [
    {
     "data": {
      "text/plain": [
       "'Mohan'"
      ]
     },
     "execution_count": 30,
     "metadata": {},
     "output_type": "execute_result"
    }
   ],
   "source": [
    "x"
   ]
  },
  {
   "cell_type": "code",
   "execution_count": 32,
   "id": "88d0831f",
   "metadata": {},
   "outputs": [
    {
     "data": {
      "text/plain": [
       "'M'"
      ]
     },
     "execution_count": 32,
     "metadata": {},
     "output_type": "execute_result"
    }
   ],
   "source": [
    "x[0]"
   ]
  },
  {
   "cell_type": "code",
   "execution_count": 35,
   "id": "eabe03b1",
   "metadata": {},
   "outputs": [
    {
     "data": {
      "text/plain": [
       "'Moh'"
      ]
     },
     "execution_count": 35,
     "metadata": {},
     "output_type": "execute_result"
    }
   ],
   "source": [
    "x[0:3]"
   ]
  },
  {
   "cell_type": "code",
   "execution_count": 36,
   "id": "4f701e3e",
   "metadata": {},
   "outputs": [
    {
     "data": {
      "text/plain": [
       "'Mohan'"
      ]
     },
     "execution_count": 36,
     "metadata": {},
     "output_type": "execute_result"
    }
   ],
   "source": [
    "x"
   ]
  },
  {
   "cell_type": "code",
   "execution_count": 43,
   "id": "c5cdd399",
   "metadata": {},
   "outputs": [
    {
     "data": {
      "text/plain": [
       "'Mohan'"
      ]
     },
     "execution_count": 43,
     "metadata": {},
     "output_type": "execute_result"
    }
   ],
   "source": [
    "x[0:5]"
   ]
  },
  {
   "cell_type": "code",
   "execution_count": 38,
   "id": "e57ff905",
   "metadata": {},
   "outputs": [
    {
     "data": {
      "text/plain": [
       "'Mohan'"
      ]
     },
     "execution_count": 38,
     "metadata": {},
     "output_type": "execute_result"
    }
   ],
   "source": [
    "x[0:]"
   ]
  },
  {
   "cell_type": "code",
   "execution_count": 39,
   "id": "1c0ce54a",
   "metadata": {},
   "outputs": [
    {
     "data": {
      "text/plain": [
       "'Mohan'"
      ]
     },
     "execution_count": 39,
     "metadata": {},
     "output_type": "execute_result"
    }
   ],
   "source": [
    "x[:6]"
   ]
  },
  {
   "cell_type": "code",
   "execution_count": 40,
   "id": "fb78afda",
   "metadata": {},
   "outputs": [
    {
     "data": {
      "text/plain": [
       "'Mohan'"
      ]
     },
     "execution_count": 40,
     "metadata": {},
     "output_type": "execute_result"
    }
   ],
   "source": [
    "x[:]"
   ]
  },
  {
   "cell_type": "code",
   "execution_count": 44,
   "id": "5ebae406",
   "metadata": {},
   "outputs": [
    {
     "data": {
      "text/plain": [
       "'Mohan'"
      ]
     },
     "execution_count": 44,
     "metadata": {},
     "output_type": "execute_result"
    }
   ],
   "source": [
    "x"
   ]
  },
  {
   "cell_type": "code",
   "execution_count": 45,
   "id": "533f23bb",
   "metadata": {},
   "outputs": [
    {
     "data": {
      "text/plain": [
       "'n'"
      ]
     },
     "execution_count": 45,
     "metadata": {},
     "output_type": "execute_result"
    }
   ],
   "source": [
    "# output----> n\n",
    "x[-1]"
   ]
  },
  {
   "cell_type": "code",
   "execution_count": 46,
   "id": "67f2f9e5",
   "metadata": {},
   "outputs": [
    {
     "data": {
      "text/plain": [
       "'Mohan'"
      ]
     },
     "execution_count": 46,
     "metadata": {},
     "output_type": "execute_result"
    }
   ],
   "source": [
    "x"
   ]
  },
  {
   "cell_type": "code",
   "execution_count": 54,
   "id": "d3f31165",
   "metadata": {},
   "outputs": [
    {
     "data": {
      "text/plain": [
       "'han'"
      ]
     },
     "execution_count": 54,
     "metadata": {},
     "output_type": "execute_result"
    }
   ],
   "source": [
    "x[-3:]"
   ]
  },
  {
   "cell_type": "code",
   "execution_count": 55,
   "id": "a24d81eb",
   "metadata": {},
   "outputs": [
    {
     "name": "stdout",
     "output_type": "stream",
     "text": [
      "Shubham\n"
     ]
    }
   ],
   "source": [
    "a = 'Shubham'\n",
    "print(a)"
   ]
  },
  {
   "cell_type": "code",
   "execution_count": 56,
   "id": "41fb3a7d",
   "metadata": {},
   "outputs": [
    {
     "data": {
      "text/plain": [
       "'Shubham'"
      ]
     },
     "execution_count": 56,
     "metadata": {},
     "output_type": "execute_result"
    }
   ],
   "source": [
    "a[0:]"
   ]
  },
  {
   "cell_type": "code",
   "execution_count": 59,
   "id": "77ac1451",
   "metadata": {},
   "outputs": [
    {
     "data": {
      "text/plain": [
       "'Suhm'"
      ]
     },
     "execution_count": 59,
     "metadata": {},
     "output_type": "execute_result"
    }
   ],
   "source": [
    "# op----->suhm\n",
    "a[0:7:2]"
   ]
  },
  {
   "cell_type": "code",
   "execution_count": 60,
   "id": "48a37779",
   "metadata": {},
   "outputs": [
    {
     "data": {
      "text/plain": [
       "'Suhm'"
      ]
     },
     "execution_count": 60,
     "metadata": {},
     "output_type": "execute_result"
    }
   ],
   "source": [
    "a[:7:2]"
   ]
  },
  {
   "cell_type": "code",
   "execution_count": 61,
   "id": "5838e136",
   "metadata": {},
   "outputs": [
    {
     "data": {
      "text/plain": [
       "'Suhm'"
      ]
     },
     "execution_count": 61,
     "metadata": {},
     "output_type": "execute_result"
    }
   ],
   "source": [
    "a[0::2]"
   ]
  },
  {
   "cell_type": "code",
   "execution_count": 62,
   "id": "9dc95d70",
   "metadata": {},
   "outputs": [
    {
     "data": {
      "text/plain": [
       "'Suhm'"
      ]
     },
     "execution_count": 62,
     "metadata": {},
     "output_type": "execute_result"
    }
   ],
   "source": [
    "a[::2]"
   ]
  },
  {
   "cell_type": "code",
   "execution_count": null,
   "id": "a50d5309",
   "metadata": {},
   "outputs": [],
   "source": []
  }
 ],
 "metadata": {
  "kernelspec": {
   "display_name": "Python 3 (ipykernel)",
   "language": "python",
   "name": "python3"
  },
  "language_info": {
   "codemirror_mode": {
    "name": "ipython",
    "version": 3
   },
   "file_extension": ".py",
   "mimetype": "text/x-python",
   "name": "python",
   "nbconvert_exporter": "python",
   "pygments_lexer": "ipython3",
   "version": "3.9.7"
  }
 },
 "nbformat": 4,
 "nbformat_minor": 5
}
