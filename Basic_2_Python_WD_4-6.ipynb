{
 "cells": [
  {
   "cell_type": "code",
   "execution_count": 3,
   "id": "a69d64f7",
   "metadata": {},
   "outputs": [
    {
     "name": "stdout",
     "output_type": "stream",
     "text": [
      "30\n"
     ]
    }
   ],
   "source": [
    "#Adding of two numbers\n",
    "a = 10\n",
    "b = 20\n",
    "c = a+b\n",
    "print(c)"
   ]
  },
  {
   "cell_type": "code",
   "execution_count": 4,
   "id": "3a4cb4ce",
   "metadata": {},
   "outputs": [
    {
     "name": "stdout",
     "output_type": "stream",
     "text": [
      "56\n"
     ]
    }
   ],
   "source": [
    "#multiply two number\n",
    "a=8\n",
    "b=7\n",
    "c= a*b\n",
    "print(c)"
   ]
  },
  {
   "cell_type": "code",
   "execution_count": 5,
   "id": "387abe95",
   "metadata": {},
   "outputs": [
    {
     "name": "stdout",
     "output_type": "stream",
     "text": [
      "2.0\n"
     ]
    }
   ],
   "source": [
    "#division of two number\n",
    "x = 4 \n",
    "y = 2\n",
    "s = x/y\n",
    "print(s)"
   ]
  },
  {
   "cell_type": "code",
   "execution_count": 6,
   "id": "6db0ea35",
   "metadata": {},
   "outputs": [
    {
     "name": "stdout",
     "output_type": "stream",
     "text": [
      "2.5\n"
     ]
    }
   ],
   "source": [
    "x = 5\n",
    "y = 2\n",
    "print(x/y)"
   ]
  },
  {
   "cell_type": "code",
   "execution_count": 7,
   "id": "706d2a67",
   "metadata": {},
   "outputs": [
    {
     "name": "stdout",
     "output_type": "stream",
     "text": [
      "10\n"
     ]
    }
   ],
   "source": [
    "#condition\n",
    "#operators\n",
    "# Assignment Operators\n",
    "# Condition Operator\n",
    "# Logic Operator\n",
    "\n",
    "# Assignment Operator------> the operator which assign some value\n",
    "# or data to the variable \n",
    "\n",
    "x = 10\n",
    "print(x)"
   ]
  },
  {
   "cell_type": "code",
   "execution_count": 12,
   "id": "fdbe89d9",
   "metadata": {},
   "outputs": [
    {
     "name": "stdout",
     "output_type": "stream",
     "text": [
      "You can vote\n"
     ]
    }
   ],
   "source": [
    "#condition\n",
    "# if & else\n",
    "age = 18\n",
    "if age==18:\n",
    "    print(\"You can vote\")\n",
    "else:\n",
    "    print(\"You can't\")"
   ]
  },
  {
   "cell_type": "code",
   "execution_count": 14,
   "id": "5a2119c8",
   "metadata": {},
   "outputs": [
    {
     "name": "stdout",
     "output_type": "stream",
     "text": [
      "False\n"
     ]
    }
   ],
   "source": [
    "# = ----> assignment operator\n",
    "# == ----> comparison operator\n",
    "\n",
    "a=20\n",
    "b=2\n",
    "print(a==b)"
   ]
  },
  {
   "cell_type": "code",
   "execution_count": 15,
   "id": "c7504673",
   "metadata": {},
   "outputs": [
    {
     "name": "stdout",
     "output_type": "stream",
     "text": [
      "This is rainy season\n"
     ]
    }
   ],
   "source": [
    "# WAP using condition and try to verify if there is \n",
    "# rainy season or not??\n",
    "temp = 20\n",
    "if temp>20:\n",
    "    print(\"What a sunny morning!!\")\n",
    "else:\n",
    "    print(\"This is rainy season\")\n"
   ]
  },
  {
   "cell_type": "code",
   "execution_count": 28,
   "id": "4a2c5f56",
   "metadata": {},
   "outputs": [
    {
     "name": "stdout",
     "output_type": "stream",
     "text": [
      "it'is adult\n"
     ]
    }
   ],
   "source": [
    "#else if ---- no else if in python\n",
    "# but instead of else if we have elif\n",
    "\n",
    "\n",
    "\n",
    "#wap using if/else/elif you have to predict the child \n",
    "# in 3 categories ----> child,adult,teenager\n",
    "# age from 0-10 --> child\n",
    "# age from 10-18---> teenager\n",
    "#age from 18 and above ----> adult\n",
    "age = 20\n",
    "if age<10:\n",
    "    print(\"this is a child\")\n",
    "elif age<18:\n",
    "    print(\"it is a teenager\")\n",
    "else:\n",
    "    print(\"it'is adult\")"
   ]
  },
  {
   "cell_type": "code",
   "execution_count": 33,
   "id": "c00ed31e",
   "metadata": {},
   "outputs": [
    {
     "name": "stdout",
     "output_type": "stream",
     "text": [
      "True\n"
     ]
    }
   ],
   "source": [
    "# >,<,<=,>=,==,!=\n",
    "a = 9\n",
    "b = 90\n",
    "print(a!=b)"
   ]
  },
  {
   "cell_type": "code",
   "execution_count": 34,
   "id": "b514f7b8",
   "metadata": {},
   "outputs": [
    {
     "name": "stdout",
     "output_type": "stream",
     "text": [
      "False\n"
     ]
    }
   ],
   "source": [
    "a=9\n",
    "b=90\n",
    "print(a==b)"
   ]
  },
  {
   "cell_type": "code",
   "execution_count": null,
   "id": "cf93fa26",
   "metadata": {},
   "outputs": [],
   "source": []
  }
 ],
 "metadata": {
  "kernelspec": {
   "display_name": "Python 3 (ipykernel)",
   "language": "python",
   "name": "python3"
  },
  "language_info": {
   "codemirror_mode": {
    "name": "ipython",
    "version": 3
   },
   "file_extension": ".py",
   "mimetype": "text/x-python",
   "name": "python",
   "nbconvert_exporter": "python",
   "pygments_lexer": "ipython3",
   "version": "3.9.7"
  }
 },
 "nbformat": 4,
 "nbformat_minor": 5
}
