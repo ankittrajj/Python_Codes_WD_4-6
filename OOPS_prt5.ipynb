{
 "cells": [
  {
   "cell_type": "code",
   "execution_count": 8,
   "id": "fc2ac305",
   "metadata": {},
   "outputs": [
    {
     "name": "stdout",
     "output_type": "stream",
     "text": [
      "Abstract method\n"
     ]
    }
   ],
   "source": [
    "#abstraction----> to hide the implementation of the code.\n",
    "#import modules\n",
    "from abc import ABC,abstractmethod\n",
    "\n",
    "class abstract_demo(ABC):\n",
    "    @abstractmethod\n",
    "    def display(self):\n",
    "        def display2(self):\n",
    "            print(\"hello peter\")\n",
    "            \n",
    "class demo2():\n",
    "    def display3(self):\n",
    "        print(\"Abstract method\")\n",
    "        \n",
    "class demo3:\n",
    "    def display4(self):\n",
    "        print(\"This is not in abstarct class\")\n",
    "        \n",
    "x = demo2()\n",
    "x.display3()\n"
   ]
  },
  {
   "cell_type": "code",
   "execution_count": 19,
   "id": "341c432f",
   "metadata": {},
   "outputs": [
    {
     "name": "stdout",
     "output_type": "stream",
     "text": [
      "hello peter2\n"
     ]
    }
   ],
   "source": [
    "from abc import ABC,abstractmethod\n",
    "class car(ABC):\n",
    "    @abstractmethod\n",
    "    def info(self):\n",
    "        print(\"hello peter\")\n",
    "        \n",
    "class car2:\n",
    "    def info2(self):\n",
    "        print(\"hello peter2\")\n",
    "        \n",
    "class car3(car2):\n",
    "    def info3(self):\n",
    "        print(\"This is me Peter\")\n",
    "        \n",
    "x = car3()\n",
    "x.info2()"
   ]
  },
  {
   "cell_type": "code",
   "execution_count": null,
   "id": "02fb3880",
   "metadata": {},
   "outputs": [],
   "source": []
  }
 ],
 "metadata": {
  "kernelspec": {
   "display_name": "Python 3 (ipykernel)",
   "language": "python",
   "name": "python3"
  },
  "language_info": {
   "codemirror_mode": {
    "name": "ipython",
    "version": 3
   },
   "file_extension": ".py",
   "mimetype": "text/x-python",
   "name": "python",
   "nbconvert_exporter": "python",
   "pygments_lexer": "ipython3",
   "version": "3.9.7"
  }
 },
 "nbformat": 4,
 "nbformat_minor": 5
}
