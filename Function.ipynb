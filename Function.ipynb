{
 "cells": [
  {
   "cell_type": "code",
   "execution_count": 1,
   "id": "94ce581b",
   "metadata": {},
   "outputs": [],
   "source": [
    " #DRY--->dont't repeat yourself\n",
    "    \n",
    "#syntax of a function\n",
    "# def fun_name():\n",
    "#     print('msg')\n",
    "    \n",
    "# fun_name()\n",
    "\n",
    "def x():\n",
    "    print('hello function')"
   ]
  },
  {
   "cell_type": "code",
   "execution_count": 2,
   "id": "01429811",
   "metadata": {},
   "outputs": [
    {
     "name": "stdout",
     "output_type": "stream",
     "text": [
      "hello function\n"
     ]
    }
   ],
   "source": [
    "# call the function\n",
    "x()"
   ]
  },
  {
   "cell_type": "code",
   "execution_count": 4,
   "id": "347f1c87",
   "metadata": {},
   "outputs": [
    {
     "name": "stdout",
     "output_type": "stream",
     "text": [
      "10\n"
     ]
    }
   ],
   "source": [
    "#type of function\n",
    "# 1 no retrun no arg\n",
    "# 2 no return with arg\n",
    "# 3 with return no arg\n",
    "# 4 with return with arg\n",
    "\n",
    "\n",
    "# 1. no return no arg\n",
    "#add two numbers with function\n",
    "def add():\n",
    "    a=9\n",
    "    b=1\n",
    "    c=a+b\n",
    "    print(c)\n",
    "    \n",
    "add()\n"
   ]
  },
  {
   "cell_type": "code",
   "execution_count": 6,
   "id": "d7173a29",
   "metadata": {},
   "outputs": [
    {
     "name": "stdout",
     "output_type": "stream",
     "text": [
      "102\n"
     ]
    }
   ],
   "source": [
    "#no return with arg\n",
    "#add\n",
    "def add(a,b):\n",
    "    c=a+b\n",
    "    print(c)\n",
    "    \n",
    "add(100,2)\n",
    "    "
   ]
  },
  {
   "cell_type": "code",
   "execution_count": 7,
   "id": "ce05f0f2",
   "metadata": {},
   "outputs": [
    {
     "name": "stdout",
     "output_type": "stream",
     "text": [
      "3\n"
     ]
    }
   ],
   "source": [
    "def add(a,b):\n",
    "    c=a+b\n",
    "    print(c)\n",
    "    \n",
    "add(1,2)"
   ]
  },
  {
   "cell_type": "code",
   "execution_count": 8,
   "id": "b3dd0e29",
   "metadata": {},
   "outputs": [
    {
     "data": {
      "text/plain": [
       "10"
      ]
     },
     "execution_count": 8,
     "metadata": {},
     "output_type": "execute_result"
    }
   ],
   "source": [
    "#with return no arg\n",
    "#add\n",
    "def add():\n",
    "    a=9\n",
    "    b=1\n",
    "    c=a+b\n",
    "    return c\n",
    "\n",
    "add()"
   ]
  },
  {
   "cell_type": "code",
   "execution_count": 9,
   "id": "3ed40b68",
   "metadata": {},
   "outputs": [
    {
     "name": "stdout",
     "output_type": "stream",
     "text": [
      "1\n"
     ]
    }
   ],
   "source": [
    "print(1)"
   ]
  },
  {
   "cell_type": "code",
   "execution_count": 10,
   "id": "2a1c38b0",
   "metadata": {},
   "outputs": [
    {
     "ename": "SyntaxError",
     "evalue": "'return' outside function (Temp/ipykernel_4428/3808999021.py, line 1)",
     "output_type": "error",
     "traceback": [
      "\u001b[1;36m  File \u001b[1;32m\"C:\\Users\\ddugky\\AppData\\Local\\Temp/ipykernel_4428/3808999021.py\"\u001b[1;36m, line \u001b[1;32m1\u001b[0m\n\u001b[1;33m    return(1)\u001b[0m\n\u001b[1;37m    ^\u001b[0m\n\u001b[1;31mSyntaxError\u001b[0m\u001b[1;31m:\u001b[0m 'return' outside function\n"
     ]
    }
   ],
   "source": [
    "return(1)"
   ]
  },
  {
   "cell_type": "code",
   "execution_count": 11,
   "id": "a365dd7b",
   "metadata": {},
   "outputs": [
    {
     "data": {
      "text/plain": [
       "20"
      ]
     },
     "execution_count": 11,
     "metadata": {},
     "output_type": "execute_result"
    }
   ],
   "source": [
    "#with return with arg\n",
    "#add\n",
    "def add(x,y):\n",
    "    z = x+y\n",
    "    return z\n",
    "\n",
    "add(19,1)"
   ]
  },
  {
   "cell_type": "code",
   "execution_count": 18,
   "id": "352251df",
   "metadata": {},
   "outputs": [],
   "source": [
    "#wap to add a list with the help of function\n",
    "# list = [3,4,5,8,1,2]\n",
    "#Wap and find the max and min of 2 numbers.\n",
    "#Wap and find the min and max of 3 numbers.\n",
    "\n",
    "\n",
    "\n",
    "\n",
    "\n",
    "\n",
    "\n",
    "\n",
    "def maxi(a,b):\n",
    "    if a>b:\n",
    "        return(a)\n",
    "    else:\n",
    "         return(b)\n",
    "    return maxi  "
   ]
  },
  {
   "cell_type": "code",
   "execution_count": 19,
   "id": "417f646f",
   "metadata": {},
   "outputs": [
    {
     "data": {
      "text/plain": [
       "2"
      ]
     },
     "execution_count": 19,
     "metadata": {},
     "output_type": "execute_result"
    }
   ],
   "source": [
    "maxi(1,2)"
   ]
  },
  {
   "cell_type": "code",
   "execution_count": 21,
   "id": "76dff130",
   "metadata": {},
   "outputs": [],
   "source": [
    "def maxmin ():\n",
    "    a= int (input(\"Enter the number 1 \"))\n",
    "    b= int (input(\"Enter the number 2 \"))\n",
    "    if a>b:\n",
    "        print (\"A is max\")\n",
    "    else:\n",
    "        print (\"B is max\")\n",
    "        return maxmin"
   ]
  },
  {
   "cell_type": "code",
   "execution_count": 22,
   "id": "6ecb4f12",
   "metadata": {},
   "outputs": [
    {
     "name": "stdout",
     "output_type": "stream",
     "text": [
      "Enter the number 1 21\n",
      "Enter the number 2 23\n",
      "B is max\n"
     ]
    },
    {
     "data": {
      "text/plain": [
       "<function __main__.maxmin()>"
      ]
     },
     "execution_count": 22,
     "metadata": {},
     "output_type": "execute_result"
    }
   ],
   "source": [
    "maxmin()"
   ]
  },
  {
   "cell_type": "code",
   "execution_count": 27,
   "id": "9cc8c801",
   "metadata": {},
   "outputs": [
    {
     "data": {
      "text/plain": [
       "28"
      ]
     },
     "execution_count": 27,
     "metadata": {},
     "output_type": "execute_result"
    }
   ],
   "source": [
    "#wap to add a list with the help of function\n",
    "# list = [3,4,5,8,1,2]\n",
    "def add_list():\n",
    "    s = [3,4,10,8,1,2]\n",
    "#     a =s[0]+s[1]+s[2]+s[3]\n",
    "    a=sum(s)\n",
    "    return(a)\n",
    "    \n",
    "add_list()"
   ]
  },
  {
   "cell_type": "code",
   "execution_count": 41,
   "id": "326f3cde",
   "metadata": {},
   "outputs": [
    {
     "data": {
      "text/plain": [
       "28"
      ]
     },
     "execution_count": 41,
     "metadata": {},
     "output_type": "execute_result"
    }
   ],
   "source": [
    "def loop_add_list():\n",
    "    s = [3,4,10,8,1,2]\n",
    "    add = 0\n",
    "    for i in s:\n",
    "        add=add+i\n",
    "    return(add)\n",
    "loop_add_list()"
   ]
  },
  {
   "cell_type": "code",
   "execution_count": 39,
   "id": "b510652d",
   "metadata": {},
   "outputs": [
    {
     "data": {
      "text/plain": [
       "23"
      ]
     },
     "execution_count": 39,
     "metadata": {},
     "output_type": "execute_result"
    }
   ],
   "source": [
    "def list():\n",
    "    s = [3,4,5,8,1,2]\n",
    "    a = 0\n",
    "    for i in s:\n",
    "        a = a+i\n",
    "    return a\n",
    "list()"
   ]
  },
  {
   "cell_type": "code",
   "execution_count": 42,
   "id": "7b0ee4a2",
   "metadata": {},
   "outputs": [
    {
     "name": "stdout",
     "output_type": "stream",
     "text": [
      "1\n",
      "2\n",
      "3\n",
      "4\n",
      "5\n"
     ]
    }
   ],
   "source": [
    "s = [1,2,3,4,5]\n",
    "for i in s:\n",
    "    print(i)"
   ]
  },
  {
   "cell_type": "code",
   "execution_count": 61,
   "id": "9f69acc4",
   "metadata": {},
   "outputs": [
    {
     "data": {
      "text/plain": [
       "30"
      ]
     },
     "execution_count": 61,
     "metadata": {},
     "output_type": "execute_result"
    }
   ],
   "source": [
    "# default arguments\n",
    "def x(j=20,k=10):\n",
    "    result = j+k\n",
    "    return result\n",
    "x()"
   ]
  },
  {
   "cell_type": "code",
   "execution_count": 62,
   "id": "fddc794f",
   "metadata": {},
   "outputs": [
    {
     "data": {
      "text/plain": [
       "-13"
      ]
     },
     "execution_count": 62,
     "metadata": {},
     "output_type": "execute_result"
    }
   ],
   "source": [
    "def a(a,b=9,c=23):\n",
    "    s =a+(b-c)\n",
    "    return s\n",
    "\n",
    "a(1)"
   ]
  },
  {
   "cell_type": "code",
   "execution_count": 64,
   "id": "49a52d75",
   "metadata": {},
   "outputs": [
    {
     "data": {
      "text/plain": [
       "81"
      ]
     },
     "execution_count": 64,
     "metadata": {},
     "output_type": "execute_result"
    }
   ],
   "source": [
    "def a(a=5,b=9,c=10):\n",
    "    s =((a+b)*c)\n",
    "    return s\n",
    "\n",
    "a(1,8)"
   ]
  },
  {
   "cell_type": "code",
   "execution_count": null,
   "id": "f8251d4d",
   "metadata": {},
   "outputs": [],
   "source": []
  }
 ],
 "metadata": {
  "kernelspec": {
   "display_name": "Python 3 (ipykernel)",
   "language": "python",
   "name": "python3"
  },
  "language_info": {
   "codemirror_mode": {
    "name": "ipython",
    "version": 3
   },
   "file_extension": ".py",
   "mimetype": "text/x-python",
   "name": "python",
   "nbconvert_exporter": "python",
   "pygments_lexer": "ipython3",
   "version": "3.9.7"
  }
 },
 "nbformat": 4,
 "nbformat_minor": 5
}
