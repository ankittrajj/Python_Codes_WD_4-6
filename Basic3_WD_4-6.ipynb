{
 "cells": [
  {
   "cell_type": "code",
   "execution_count": 9,
   "id": "e184341f",
   "metadata": {},
   "outputs": [
    {
     "name": "stdout",
     "output_type": "stream",
     "text": [
      "You are adult\n"
     ]
    }
   ],
   "source": [
    "#if / else condition\n",
    "# if and else\n",
    "age = 18\n",
    "if age>18:\n",
    "    print(\"You are 18+\")\n",
    "elif age==18:\n",
    "    print(\"You are adult\")\n",
    "else:\n",
    "    print(\"You are kid\")"
   ]
  },
  {
   "cell_type": "code",
   "execution_count": 26,
   "id": "5ac85d52",
   "metadata": {},
   "outputs": [
    {
     "name": "stdout",
     "output_type": "stream",
     "text": [
      "B\n"
     ]
    }
   ],
   "source": [
    "#WAP to print the pass & fail condition of a student\n",
    "# according his marks\n",
    "# 1. 40 and below  C\n",
    "# 2. 50-70 = B\n",
    "# 3. 70-90 = A\n",
    "# 4. 90+ = A+\n",
    "\n",
    "marks = 50\n",
    "if marks>90:\n",
    "    print(\"A+\")\n",
    "elif 50 <= marks<= 60:\n",
    "    print(\"B\")\n",
    "elif 70<= marks <=90:\n",
    "    print(\"A\")\n",
    "elif 1<= marks <=40:\n",
    "    print(\"C\")\n",
    "else:\n",
    "    print('Fail')"
   ]
  },
  {
   "cell_type": "code",
   "execution_count": 28,
   "id": "355d1247",
   "metadata": {},
   "outputs": [
    {
     "name": "stdout",
     "output_type": "stream",
     "text": [
      "enter somethingqwerty\n",
      "qwerty\n"
     ]
    }
   ],
   "source": [
    "#user input ---- > involving the user in your code\n",
    "a = input(\"enter something\")\n",
    "print(a)"
   ]
  },
  {
   "cell_type": "code",
   "execution_count": 33,
   "id": "7ad47308",
   "metadata": {},
   "outputs": [
    {
     "name": "stdout",
     "output_type": "stream",
     "text": [
      "Enter the first number2\n",
      "Enter the second number8\n",
      "10\n"
     ]
    }
   ],
   "source": [
    "#wap and add two numbers with the help of user input\n",
    "x = input(\"Enter the first number\")\n",
    "y = input(\"Enter the second number\")\n",
    "a = int(x)+int(y)\n",
    "print(a)"
   ]
  },
  {
   "cell_type": "code",
   "execution_count": 34,
   "id": "00cca878",
   "metadata": {},
   "outputs": [
    {
     "name": "stdout",
     "output_type": "stream",
     "text": [
      "0\n",
      "1\n",
      "2\n",
      "3\n",
      "4\n",
      "5\n",
      "6\n",
      "7\n",
      "8\n",
      "9\n"
     ]
    }
   ],
   "source": [
    "#loop------> used to work on repetation / continously work\n",
    "\n",
    "# wap to print 1-10 without using loop\n",
    "\n",
    "#syntax of the loop\n",
    "#type of loop\n",
    "# 1. for loop\n",
    "# 2. while loop\n",
    "\n",
    "#for loop\n",
    "#syntax of the for loop\n",
    "#range function\n",
    "#1-10\n",
    "\n",
    "for i in range(10):\n",
    "    print(i)"
   ]
  },
  {
   "cell_type": "code",
   "execution_count": 36,
   "id": "bfdba1b0",
   "metadata": {},
   "outputs": [
    {
     "name": "stdout",
     "output_type": "stream",
     "text": [
      "0\n",
      "1\n",
      "2\n",
      "3\n",
      "4\n",
      "5\n",
      "6\n",
      "7\n",
      "8\n",
      "9\n"
     ]
    }
   ],
   "source": [
    "#range---- range(0,10)-----> n-1\n",
    "# 2.range(0,10)\n",
    "# range(0,10,2)\n",
    "for x in range(0,10):\n",
    "    print(x)"
   ]
  },
  {
   "cell_type": "code",
   "execution_count": 38,
   "id": "5f4e18d4",
   "metadata": {},
   "outputs": [
    {
     "name": "stdout",
     "output_type": "stream",
     "text": [
      "0\n",
      "2\n",
      "4\n",
      "6\n",
      "8\n"
     ]
    }
   ],
   "source": [
    "for a in range(0,10,2):\n",
    "    print(a)"
   ]
  },
  {
   "cell_type": "code",
   "execution_count": 40,
   "id": "9f244164",
   "metadata": {},
   "outputs": [
    {
     "name": "stdout",
     "output_type": "stream",
     "text": [
      "0\n",
      "1\n",
      "2\n",
      "3\n",
      "4\n",
      "5\n",
      "6\n",
      "7\n",
      "8\n",
      "9\n"
     ]
    }
   ],
   "source": [
    "#while loop\n",
    "# 1. initialize the variable\n",
    "# 2. condition\n",
    "# 3. increment or decrement\n",
    "\n",
    "# WAP to print 1-10 using while loop\n",
    "\n",
    "x = 0\n",
    "while x<10:\n",
    "    print(x)\n",
    "#     x++\n",
    "#     x=x+1\n",
    "    x+=1"
   ]
  },
  {
   "cell_type": "code",
   "execution_count": 41,
   "id": "e9290700",
   "metadata": {},
   "outputs": [
    {
     "name": "stdout",
     "output_type": "stream",
     "text": [
      "3\n",
      "6\n",
      "9\n",
      "12\n",
      "15\n",
      "18\n",
      "21\n",
      "24\n",
      "27\n",
      "30\n"
     ]
    }
   ],
   "source": [
    "#WAP to print the table of 3 using both for and while loop\n",
    "#Print 10 natural numbers using while loop\n",
    "#WAP to print number from -1 to -10\n",
    "#Wap to print number from 1 to - 10\n",
    "\n",
    "#for loop\n",
    "for i in range(1,11):\n",
    "    print(3*i)\n"
   ]
  },
  {
   "cell_type": "code",
   "execution_count": 43,
   "id": "bf60e5db",
   "metadata": {},
   "outputs": [
    {
     "name": "stdout",
     "output_type": "stream",
     "text": [
      "3\n",
      "6\n",
      "9\n",
      "12\n",
      "15\n",
      "18\n",
      "21\n",
      "24\n",
      "27\n",
      "30\n"
     ]
    }
   ],
   "source": [
    "for i in range(3,33,3):\n",
    "    print(i)"
   ]
  },
  {
   "cell_type": "code",
   "execution_count": 45,
   "id": "8cdc26ba",
   "metadata": {},
   "outputs": [
    {
     "name": "stdout",
     "output_type": "stream",
     "text": [
      "1\n",
      "2\n",
      "3\n",
      "4\n",
      "5\n",
      "6\n",
      "7\n",
      "8\n",
      "9\n",
      "10\n"
     ]
    }
   ],
   "source": [
    "#Print  first natural number using while loop\n",
    "x = 1\n",
    "while x<=10:\n",
    "    print(x)\n",
    "    x=x+1\n"
   ]
  },
  {
   "cell_type": "code",
   "execution_count": 49,
   "id": "d12e3b3c",
   "metadata": {},
   "outputs": [
    {
     "name": "stdout",
     "output_type": "stream",
     "text": [
      "-10\n",
      "-9\n",
      "-8\n",
      "-7\n",
      "-6\n",
      "-5\n",
      "-4\n",
      "-3\n",
      "-2\n",
      "-1\n"
     ]
    }
   ],
   "source": [
    "#-1 to -10\n",
    "for i in range(-10,0):\n",
    "    print(i)"
   ]
  },
  {
   "cell_type": "code",
   "execution_count": 50,
   "id": "c0542791",
   "metadata": {},
   "outputs": [
    {
     "name": "stdout",
     "output_type": "stream",
     "text": [
      "-10\n",
      "-9\n",
      "-8\n",
      "-7\n",
      "-6\n",
      "-5\n",
      "-4\n",
      "-3\n",
      "-2\n",
      "-1\n",
      "0\n",
      "1\n"
     ]
    }
   ],
   "source": [
    "for i in range(-10,2):\n",
    "    print(i)"
   ]
  },
  {
   "cell_type": "code",
   "execution_count": 51,
   "id": "e366a81f",
   "metadata": {},
   "outputs": [
    {
     "name": "stdout",
     "output_type": "stream",
     "text": [
      "3\n",
      "6\n",
      "9\n",
      "12\n",
      "15\n",
      "18\n",
      "21\n",
      "24\n",
      "27\n",
      "30\n"
     ]
    }
   ],
   "source": [
    "# < >=    or \n",
    "# =\n",
    "# ==\n",
    "i = 3\n",
    "while i<=30:\n",
    "    print(i)\n",
    "    i = i+3\n",
    "    "
   ]
  },
  {
   "cell_type": "code",
   "execution_count": null,
   "id": "83b2a63b",
   "metadata": {},
   "outputs": [],
   "source": []
  }
 ],
 "metadata": {
  "kernelspec": {
   "display_name": "Python 3 (ipykernel)",
   "language": "python",
   "name": "python3"
  },
  "language_info": {
   "codemirror_mode": {
    "name": "ipython",
    "version": 3
   },
   "file_extension": ".py",
   "mimetype": "text/x-python",
   "name": "python",
   "nbconvert_exporter": "python",
   "pygments_lexer": "ipython3",
   "version": "3.9.7"
  }
 },
 "nbformat": 4,
 "nbformat_minor": 5
}
